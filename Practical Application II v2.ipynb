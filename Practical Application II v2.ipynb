{
 "cells": [
  {
   "cell_type": "code",
   "execution_count": 2,
   "id": "f0e45397",
   "metadata": {},
   "outputs": [],
   "source": [
    "import statsmodels.api as sm\n",
    "from statsmodels.tsa.arima.model import ARIMA\n",
    "from statsmodels.tsa.stattools import adfuller\n",
    "from statsmodels.tsa.statespace.sarimax import SARIMAX\n",
    "from statsmodels.tsa.stattools import acf, pacf\n",
    "from statsmodels.graphics.tsaplots import plot_acf, plot_pacf\n",
    "\n",
    "import pandas as pd\n",
    "import matplotlib.pyplot as plt\n",
    "import numpy as np\n",
    "\n",
    "from sklearn.metrics import mean_squared_error\n",
    "\n",
    "from warnings import filterwarnings\n",
    "\n",
    "from sklearn.linear_model import LinearRegression\n",
    "from sklearn.pipeline import Pipeline\n",
    "from sklearn.preprocessing import PolynomialFeatures, OneHotEncoder, OrdinalEncoder\n",
    "from sklearn.metrics import mean_squared_error \n",
    "from sklearn.model_selection import train_test_split\n",
    "from sklearn.compose import make_column_transformer, make_column_selector\n"
   ]
  },
  {
   "cell_type": "code",
   "execution_count": 31,
   "id": "0bc85857",
   "metadata": {},
   "outputs": [],
   "source": [
    "df = pd.read_csv(r'C:\\Users\\pbthakke\\Documents\\Learning\\Machine Learning\\practical_application_II_starter\\data\\vehicles.csv')"
   ]
  },
  {
   "cell_type": "code",
   "execution_count": 32,
   "id": "56c3695f",
   "metadata": {
    "scrolled": true
   },
   "outputs": [
    {
     "data": {
      "text/html": [
       "<div>\n",
       "<style scoped>\n",
       "    .dataframe tbody tr th:only-of-type {\n",
       "        vertical-align: middle;\n",
       "    }\n",
       "\n",
       "    .dataframe tbody tr th {\n",
       "        vertical-align: top;\n",
       "    }\n",
       "\n",
       "    .dataframe thead th {\n",
       "        text-align: right;\n",
       "    }\n",
       "</style>\n",
       "<table border=\"1\" class=\"dataframe\">\n",
       "  <thead>\n",
       "    <tr style=\"text-align: right;\">\n",
       "      <th></th>\n",
       "      <th>id</th>\n",
       "      <th>region</th>\n",
       "      <th>price</th>\n",
       "      <th>year</th>\n",
       "      <th>manufacturer</th>\n",
       "      <th>model</th>\n",
       "      <th>condition</th>\n",
       "      <th>cylinders</th>\n",
       "      <th>fuel</th>\n",
       "      <th>odometer</th>\n",
       "      <th>title_status</th>\n",
       "      <th>transmission</th>\n",
       "      <th>VIN</th>\n",
       "      <th>drive</th>\n",
       "      <th>size</th>\n",
       "      <th>type</th>\n",
       "      <th>paint_color</th>\n",
       "      <th>state</th>\n",
       "    </tr>\n",
       "  </thead>\n",
       "  <tbody>\n",
       "    <tr>\n",
       "      <th>0</th>\n",
       "      <td>7222695916</td>\n",
       "      <td>prescott</td>\n",
       "      <td>6000</td>\n",
       "      <td>NaN</td>\n",
       "      <td>NaN</td>\n",
       "      <td>NaN</td>\n",
       "      <td>NaN</td>\n",
       "      <td>NaN</td>\n",
       "      <td>NaN</td>\n",
       "      <td>NaN</td>\n",
       "      <td>NaN</td>\n",
       "      <td>NaN</td>\n",
       "      <td>NaN</td>\n",
       "      <td>NaN</td>\n",
       "      <td>NaN</td>\n",
       "      <td>NaN</td>\n",
       "      <td>NaN</td>\n",
       "      <td>az</td>\n",
       "    </tr>\n",
       "    <tr>\n",
       "      <th>1</th>\n",
       "      <td>7218891961</td>\n",
       "      <td>fayetteville</td>\n",
       "      <td>11900</td>\n",
       "      <td>NaN</td>\n",
       "      <td>NaN</td>\n",
       "      <td>NaN</td>\n",
       "      <td>NaN</td>\n",
       "      <td>NaN</td>\n",
       "      <td>NaN</td>\n",
       "      <td>NaN</td>\n",
       "      <td>NaN</td>\n",
       "      <td>NaN</td>\n",
       "      <td>NaN</td>\n",
       "      <td>NaN</td>\n",
       "      <td>NaN</td>\n",
       "      <td>NaN</td>\n",
       "      <td>NaN</td>\n",
       "      <td>ar</td>\n",
       "    </tr>\n",
       "    <tr>\n",
       "      <th>2</th>\n",
       "      <td>7221797935</td>\n",
       "      <td>florida keys</td>\n",
       "      <td>21000</td>\n",
       "      <td>NaN</td>\n",
       "      <td>NaN</td>\n",
       "      <td>NaN</td>\n",
       "      <td>NaN</td>\n",
       "      <td>NaN</td>\n",
       "      <td>NaN</td>\n",
       "      <td>NaN</td>\n",
       "      <td>NaN</td>\n",
       "      <td>NaN</td>\n",
       "      <td>NaN</td>\n",
       "      <td>NaN</td>\n",
       "      <td>NaN</td>\n",
       "      <td>NaN</td>\n",
       "      <td>NaN</td>\n",
       "      <td>fl</td>\n",
       "    </tr>\n",
       "    <tr>\n",
       "      <th>3</th>\n",
       "      <td>7222270760</td>\n",
       "      <td>worcester / central MA</td>\n",
       "      <td>1500</td>\n",
       "      <td>NaN</td>\n",
       "      <td>NaN</td>\n",
       "      <td>NaN</td>\n",
       "      <td>NaN</td>\n",
       "      <td>NaN</td>\n",
       "      <td>NaN</td>\n",
       "      <td>NaN</td>\n",
       "      <td>NaN</td>\n",
       "      <td>NaN</td>\n",
       "      <td>NaN</td>\n",
       "      <td>NaN</td>\n",
       "      <td>NaN</td>\n",
       "      <td>NaN</td>\n",
       "      <td>NaN</td>\n",
       "      <td>ma</td>\n",
       "    </tr>\n",
       "    <tr>\n",
       "      <th>4</th>\n",
       "      <td>7210384030</td>\n",
       "      <td>greensboro</td>\n",
       "      <td>4900</td>\n",
       "      <td>NaN</td>\n",
       "      <td>NaN</td>\n",
       "      <td>NaN</td>\n",
       "      <td>NaN</td>\n",
       "      <td>NaN</td>\n",
       "      <td>NaN</td>\n",
       "      <td>NaN</td>\n",
       "      <td>NaN</td>\n",
       "      <td>NaN</td>\n",
       "      <td>NaN</td>\n",
       "      <td>NaN</td>\n",
       "      <td>NaN</td>\n",
       "      <td>NaN</td>\n",
       "      <td>NaN</td>\n",
       "      <td>nc</td>\n",
       "    </tr>\n",
       "  </tbody>\n",
       "</table>\n",
       "</div>"
      ],
      "text/plain": [
       "           id                  region  price  year manufacturer model  \\\n",
       "0  7222695916                prescott   6000   NaN          NaN   NaN   \n",
       "1  7218891961            fayetteville  11900   NaN          NaN   NaN   \n",
       "2  7221797935            florida keys  21000   NaN          NaN   NaN   \n",
       "3  7222270760  worcester / central MA   1500   NaN          NaN   NaN   \n",
       "4  7210384030              greensboro   4900   NaN          NaN   NaN   \n",
       "\n",
       "  condition cylinders fuel  odometer title_status transmission  VIN drive  \\\n",
       "0       NaN       NaN  NaN       NaN          NaN          NaN  NaN   NaN   \n",
       "1       NaN       NaN  NaN       NaN          NaN          NaN  NaN   NaN   \n",
       "2       NaN       NaN  NaN       NaN          NaN          NaN  NaN   NaN   \n",
       "3       NaN       NaN  NaN       NaN          NaN          NaN  NaN   NaN   \n",
       "4       NaN       NaN  NaN       NaN          NaN          NaN  NaN   NaN   \n",
       "\n",
       "  size type paint_color state  \n",
       "0  NaN  NaN         NaN    az  \n",
       "1  NaN  NaN         NaN    ar  \n",
       "2  NaN  NaN         NaN    fl  \n",
       "3  NaN  NaN         NaN    ma  \n",
       "4  NaN  NaN         NaN    nc  "
      ]
     },
     "execution_count": 32,
     "metadata": {},
     "output_type": "execute_result"
    }
   ],
   "source": [
    "df.head()"
   ]
  },
  {
   "cell_type": "code",
   "execution_count": 33,
   "id": "3c4b3c8d",
   "metadata": {},
   "outputs": [],
   "source": [
    "regions = ['statesboro', 'lafayette', 'logan', 'southwest TX', 'san marcos', 'central louisiana', 'northeast SD', 'northwest KS', 'st louis']\n",
    "df = df.dropna()\n",
    "df= df.drop('id', axis = 1)\n",
    "df = df.drop('VIN', axis = 1)\n",
    "df = df.drop(df[df['price'] == 0].index)\n",
    "df['price'] = (df['price'] - df['price'].mean()) / df['price'].std()\n",
    "df['year'] = (df['year'] - df['year'].mean()) / df['year'].std()\n",
    "df['odometer'] = (df['odometer'] - df['odometer'].mean()) / df['odometer'].std()\n",
    "\n",
    "X = df.drop('price', axis = 1)\n",
    "y = df['price']\n",
    "df = df.drop('price', axis = 1)\n",
    "X_train, X_test, y_train, y_test = train_test_split(X, y, test_size=0.3, random_state=22)\n"
   ]
  },
  {
   "cell_type": "code",
   "execution_count": 34,
   "id": "e910a336",
   "metadata": {},
   "outputs": [
    {
     "data": {
      "text/plain": [
       "excellent    18259\n",
       "good          9772\n",
       "like new      3772\n",
       "fair           488\n",
       "new            169\n",
       "salvage         36\n",
       "Name: condition, dtype: int64"
      ]
     },
     "execution_count": 34,
     "metadata": {},
     "output_type": "execute_result"
    }
   ],
   "source": [
    "oe_condition = OrdinalEncoder(categories = [['salvage', 'fair', 'good', 'excellent', 'like new', 'new']])\n",
    "df['condition'].value_counts()"
   ]
  },
  {
   "cell_type": "code",
   "execution_count": 35,
   "id": "c6b8f42e",
   "metadata": {},
   "outputs": [],
   "source": [
    "df['title_status'].value_counts()\n",
    "oe_title_status = OrdinalEncoder(categories = [['parts only', 'salvage', 'rebuilt', 'missing', 'lien', 'clean']])"
   ]
  },
  {
   "cell_type": "code",
   "execution_count": 36,
   "id": "b3ad4146",
   "metadata": {},
   "outputs": [],
   "source": [
    "df['size'].value_counts()\n",
    "oe_size = OrdinalEncoder(categories = [['sub-compact', 'compact', 'mid-size', 'full-size']])"
   ]
  },
  {
   "cell_type": "code",
   "execution_count": 37,
   "id": "00c92083",
   "metadata": {},
   "outputs": [],
   "source": [
    "df['type'].value_counts()\n",
    "oe_type = OrdinalEncoder(categories = [['other', 'offroad', 'coupe', 'hatchback', 'convertible', 'sedan', 'wagon', 'SUV', 'truck', 'pickup', 'mini-van', 'van', 'bus']])"
   ]
  },
  {
   "cell_type": "code",
   "execution_count": 38,
   "id": "7dcbc76f",
   "metadata": {},
   "outputs": [],
   "source": [
    "df['cylinders'].value_counts()\n",
    "oe_cylinders = OrdinalEncoder(categories = [['other', '3 cylinders', '4 cylinders', '5 cylinders', '6 cylinders', '8 cylinders', '10 cylinders', '12 cylinders']])"
   ]
  },
  {
   "cell_type": "code",
   "execution_count": 39,
   "id": "6fbc7dcd",
   "metadata": {},
   "outputs": [
    {
     "data": {
      "text/plain": [
       "white     9092\n",
       "black     5994\n",
       "silver    4483\n",
       "grey      3989\n",
       "blue      3141\n",
       "red       2900\n",
       "custom     868\n",
       "green      842\n",
       "brown      748\n",
       "yellow     215\n",
       "orange     152\n",
       "purple      72\n",
       "Name: paint_color, dtype: int64"
      ]
     },
     "execution_count": 39,
     "metadata": {},
     "output_type": "execute_result"
    }
   ],
   "source": [
    "df['paint_color'].value_counts()"
   ]
  },
  {
   "cell_type": "code",
   "execution_count": 40,
   "id": "51d3cb4b",
   "metadata": {},
   "outputs": [
    {
     "data": {
      "text/plain": [
       "vermont               676\n",
       "jacksonville          577\n",
       "anchorage / mat-su    399\n",
       "nashville             364\n",
       "central NJ            359\n",
       "                     ... \n",
       "northeast SD            1\n",
       "the thumb               1\n",
       "st louis                1\n",
       "houma                   1\n",
       "imperial county         1\n",
       "Name: region, Length: 390, dtype: int64"
      ]
     },
     "execution_count": 40,
     "metadata": {},
     "output_type": "execute_result"
    }
   ],
   "source": [
    "df['region'].value_counts()"
   ]
  },
  {
   "cell_type": "code",
   "execution_count": 60,
   "id": "2cc7bb03",
   "metadata": {
    "scrolled": true
   },
   "outputs": [
    {
     "name": "stdout",
     "output_type": "stream",
     "text": [
      "[0.20022151006569494, 0.13988435890660958, 0.13527787338523553, 0.28383977442647523, 0.9861671478852588]\n",
      "[0.49232538710956253, 0.4701003138415885, 0.23877186656910634, 0.31222652283560265, 1.0236071783402207]\n"
     ]
    },
    {
     "data": {
      "text/plain": [
       "Pipeline(steps=[('transformer',\n",
       "                 ColumnTransformer(remainder='passthrough',\n",
       "                                   transformers=[('polynomialfeatures',\n",
       "                                                  PolynomialFeatures(degree=5),\n",
       "                                                  <sklearn.compose._column_transformer.make_column_selector object at 0x0000026EA5C58220>),\n",
       "                                                 ('ordinalencoder-1',\n",
       "                                                  OrdinalEncoder(categories=[['salvage',\n",
       "                                                                              'fair',\n",
       "                                                                              'good',\n",
       "                                                                              'excellent',\n",
       "                                                                              'like '\n",
       "                                                                              'new',\n",
       "                                                                              'new']]),\n",
       "                                                  ['condition']),\n",
       "                                                 ('ordi...\n",
       "                                                  OneHotEncoder(handle_unknown='ignore'),\n",
       "                                                  ['fuel']),\n",
       "                                                 ('onehotencoder-5',\n",
       "                                                  OneHotEncoder(handle_unknown='ignore'),\n",
       "                                                  ['transmission']),\n",
       "                                                 ('onehotencoder-6',\n",
       "                                                  OneHotEncoder(handle_unknown='ignore'),\n",
       "                                                  ['drive']),\n",
       "                                                 ('onehotencoder-7',\n",
       "                                                  OneHotEncoder(handle_unknown='ignore'),\n",
       "                                                  ['paint_color']),\n",
       "                                                 ('onehotencoder-8',\n",
       "                                                  OneHotEncoder(handle_unknown='ignore'),\n",
       "                                                  ['state'])])),\n",
       "                ('linreg', LinearRegression())])"
      ]
     },
     "execution_count": 60,
     "metadata": {},
     "output_type": "execute_result"
    }
   ],
   "source": [
    "train_mses = []\n",
    "test_mses = []\n",
    "\n",
    "for i in range(1,6):\n",
    "    poly = make_column_transformer((PolynomialFeatures(degree=i), make_column_selector(dtype_include=np.number)),\n",
    "                                               (oe_condition, ['condition']),\n",
    "                                               (oe_title_status, ['title_status']),\n",
    "                                               (oe_size, ['size']),\n",
    "                                               (oe_type, ['type']),\n",
    "                                               (oe_cylinders, ['cylinders']),\n",
    "                                                (OneHotEncoder(handle_unknown = 'ignore'), ['region']),\n",
    "                                                (OneHotEncoder(handle_unknown = 'ignore'), ['manufacturer']),\n",
    "                                                (OneHotEncoder(handle_unknown = 'ignore'), ['model']),\n",
    "                                                (OneHotEncoder(handle_unknown = 'ignore'), ['fuel']),\n",
    "                                                (OneHotEncoder(handle_unknown = 'ignore'), ['transmission']),\n",
    "                                                (OneHotEncoder(handle_unknown = 'ignore'), ['drive']),\n",
    "                                                (OneHotEncoder(handle_unknown = 'ignore'), ['paint_color']),\n",
    "                                                (OneHotEncoder(handle_unknown = 'ignore'), ['state']), \n",
    "                                               remainder='passthrough'\n",
    "                                  )\n",
    "    pipe = Pipeline([('transformer', poly), ('linreg', LinearRegression())])\n",
    "                                  \n",
    "    poly.fit_transform(X_train)\n",
    "    pipe.fit(X_train, y_train)\n",
    "    p1 = pipe.predict(X_train)\n",
    "    p2 = pipe.predict(X_test)\n",
    "    train_mses.append(mean_squared_error(y_train, p1))\n",
    "    test_mses.append(mean_squared_error(y_test, p2))\n",
    "print(train_mses)\n",
    "print(test_mses)\n",
    "pipe    "
   ]
  },
  {
   "cell_type": "code",
   "execution_count": 61,
   "id": "072533d5",
   "metadata": {},
   "outputs": [
    {
     "name": "stdout",
     "output_type": "stream",
     "text": [
      "0.13988435890660958\n",
      "0.4701003138415885\n",
      "4631\n"
     ]
    }
   ],
   "source": [
    "    poly = make_column_transformer((PolynomialFeatures(degree=2), make_column_selector(dtype_include=np.number)),\n",
    "                                               (oe_condition, ['condition']),\n",
    "                                               (oe_title_status, ['title_status']),\n",
    "                                               (oe_size, ['size']),\n",
    "                                               (oe_type, ['type']),\n",
    "                                               (oe_cylinders, ['cylinders']),\n",
    "                                                (OneHotEncoder(handle_unknown = 'ignore'), ['region']),\n",
    "                                                (OneHotEncoder(handle_unknown = 'ignore'), ['manufacturer']),\n",
    "                                                (OneHotEncoder(handle_unknown = 'ignore'), ['model']),\n",
    "                                                (OneHotEncoder(handle_unknown = 'ignore'), ['fuel']),\n",
    "                                                (OneHotEncoder(handle_unknown = 'ignore'), ['transmission']),\n",
    "                                                (OneHotEncoder(handle_unknown = 'ignore'), ['drive']),\n",
    "                                                (OneHotEncoder(handle_unknown = 'ignore'), ['paint_color']),\n",
    "                                                (OneHotEncoder(handle_unknown = 'ignore'), ['state']), \n",
    "                                               remainder='passthrough'\n",
    "                                  )\n",
    "    pipe = Pipeline([('transformer', poly), ('linreg', LinearRegression())])\n",
    "                                  \n",
    "    poly.fit_transform(X_train)\n",
    "    pipe.fit(X_train, y_train)\n",
    "    p1 = pipe.predict(X_train)\n",
    "    p2 = pipe.predict(X_test)\n",
    "    train_mse = (mean_squared_error(y_train, p1))\n",
    "    test_mse = (mean_squared_error(y_test, p2))\n",
    "print(train_mse)\n",
    "print(test_mse)\n",
    "print(len(pipe.named_steps['linreg'].coef_))"
   ]
  },
  {
   "cell_type": "code",
   "execution_count": 62,
   "id": "ec5358c3",
   "metadata": {},
   "outputs": [
    {
     "name": "stdout",
     "output_type": "stream",
     "text": [
      "0.14093884882754681\n",
      "0.4907137125951561\n"
     ]
    }
   ],
   "source": [
    "X_train1 = X_train.drop('condition', axis=1)\n",
    "X_test1 = X_test.drop('condition', axis=1)\n",
    "\n",
    "poly = make_column_transformer((PolynomialFeatures(degree=2), make_column_selector(dtype_include=np.number)),\n",
    "                                       \n",
    "                                               (oe_title_status, ['title_status']),\n",
    "                                               (oe_size, ['size']),\n",
    "                                               (oe_type, ['type']),\n",
    "                                               (oe_cylinders, ['cylinders']),\n",
    "                                                (OneHotEncoder(handle_unknown = 'ignore'), ['region']),\n",
    "                                                (OneHotEncoder(handle_unknown = 'ignore'), ['manufacturer']),\n",
    "                                                (OneHotEncoder(handle_unknown = 'ignore'), ['model']),\n",
    "                                                (OneHotEncoder(handle_unknown = 'ignore'), ['fuel']),\n",
    "                                                (OneHotEncoder(handle_unknown = 'ignore'), ['transmission']),\n",
    "                                                (OneHotEncoder(handle_unknown = 'ignore'), ['drive']),\n",
    "                                                (OneHotEncoder(handle_unknown = 'ignore'), ['paint_color']),\n",
    "                                                (OneHotEncoder(handle_unknown = 'ignore'), ['state']), \n",
    "                                               remainder='passthrough'\n",
    "                                  )\n",
    "pipe = Pipeline([('transformer', poly), ('linreg', LinearRegression())])\n",
    "\n",
    "poly.fit_transform(X_train1)\n",
    "pipe.fit(X_train1, y_train)\n",
    "p1 = pipe.predict(X_train1)\n",
    "p2 = pipe.predict(X_test1)\n",
    "train_mse = (mean_squared_error(y_train, p1))\n",
    "test_mse = (mean_squared_error(y_test, p2))\n",
    "print(train_mse)\n",
    "print(test_mse)"
   ]
  },
  {
   "cell_type": "code",
   "execution_count": 63,
   "id": "7718c485",
   "metadata": {},
   "outputs": [
    {
     "name": "stdout",
     "output_type": "stream",
     "text": [
      "0.1412395196082924\n",
      "0.4585611267376086\n"
     ]
    }
   ],
   "source": [
    "X_train1 = X_train.drop('title_status', axis=1)\n",
    "X_test1 = X_test.drop('title_status', axis=1)\n",
    "\n",
    "poly = make_column_transformer((PolynomialFeatures(degree=2), make_column_selector(dtype_include=np.number)),\n",
    "                                               (oe_condition, ['condition']),\n",
    "#                                               (oe_title_status, ['title_status']),\n",
    "                                               (oe_size, ['size']),\n",
    "                                               (oe_type, ['type']),\n",
    "                                               (oe_cylinders, ['cylinders']),\n",
    "                                                (OneHotEncoder(handle_unknown = 'ignore'), ['region']),\n",
    "                                                (OneHotEncoder(handle_unknown = 'ignore'), ['manufacturer']),\n",
    "                                                (OneHotEncoder(handle_unknown = 'ignore'), ['model']),\n",
    "                                                (OneHotEncoder(handle_unknown = 'ignore'), ['fuel']),\n",
    "                                                (OneHotEncoder(handle_unknown = 'ignore'), ['transmission']),\n",
    "                                                (OneHotEncoder(handle_unknown = 'ignore'), ['drive']),\n",
    "                                                (OneHotEncoder(handle_unknown = 'ignore'), ['paint_color']),\n",
    "                                                (OneHotEncoder(handle_unknown = 'ignore'), ['state']), \n",
    "                                               remainder='passthrough'\n",
    "                                  )\n",
    "pipe = Pipeline([('transformer', poly), ('linreg', LinearRegression())])\n",
    "\n",
    "poly.fit_transform(X_train1)\n",
    "pipe.fit(X_train1, y_train)\n",
    "p1 = pipe.predict(X_train1)\n",
    "p2 = pipe.predict(X_test1)\n",
    "train_mse = (mean_squared_error(y_train, p1))\n",
    "test_mse = (mean_squared_error(y_test, p2))\n",
    "print(train_mse)\n",
    "print(test_mse)"
   ]
  },
  {
   "cell_type": "code",
   "execution_count": 64,
   "id": "04bb50ce",
   "metadata": {},
   "outputs": [
    {
     "name": "stdout",
     "output_type": "stream",
     "text": [
      "0.14023509458057995\n",
      "0.46678693836133983\n"
     ]
    }
   ],
   "source": [
    "X_train1 = X_train.drop('size', axis=1)\n",
    "X_test1 = X_test.drop('size', axis=1)\n",
    "\n",
    "poly = make_column_transformer((PolynomialFeatures(degree=2), make_column_selector(dtype_include=np.number)),\n",
    "                                               (oe_condition, ['condition']),\n",
    "                                               (oe_title_status, ['title_status']),\n",
    "#                                               (oe_size, ['size']),\n",
    "                                               (oe_type, ['type']),\n",
    "                                               (oe_cylinders, ['cylinders']),\n",
    "                                                (OneHotEncoder(handle_unknown = 'ignore'), ['region']),\n",
    "                                                (OneHotEncoder(handle_unknown = 'ignore'), ['manufacturer']),\n",
    "                                                (OneHotEncoder(handle_unknown = 'ignore'), ['model']),\n",
    "                                                (OneHotEncoder(handle_unknown = 'ignore'), ['fuel']),\n",
    "                                                (OneHotEncoder(handle_unknown = 'ignore'), ['transmission']),\n",
    "                                                (OneHotEncoder(handle_unknown = 'ignore'), ['drive']),\n",
    "                                                (OneHotEncoder(handle_unknown = 'ignore'), ['paint_color']),\n",
    "                                                (OneHotEncoder(handle_unknown = 'ignore'), ['state']), \n",
    "                                               remainder='passthrough'\n",
    "                                  )\n",
    "pipe = Pipeline([('transformer', poly), ('linreg', LinearRegression())])\n",
    "\n",
    "poly.fit_transform(X_train1)\n",
    "pipe.fit(X_train1, y_train)\n",
    "p1 = pipe.predict(X_train1)\n",
    "p2 = pipe.predict(X_test1)\n",
    "train_mse = (mean_squared_error(y_train, p1))\n",
    "test_mse = (mean_squared_error(y_test, p2))\n",
    "print(train_mse)\n",
    "print(test_mse)"
   ]
  },
  {
   "cell_type": "code",
   "execution_count": 65,
   "id": "a98eab7a",
   "metadata": {},
   "outputs": [
    {
     "name": "stdout",
     "output_type": "stream",
     "text": [
      "0.1399266520312012\n",
      "0.47119661529999163\n"
     ]
    }
   ],
   "source": [
    "X_train1 = X_train.drop('type', axis=1)\n",
    "X_test1 = X_test.drop('type', axis=1)\n",
    "\n",
    "poly = make_column_transformer((PolynomialFeatures(degree=2), make_column_selector(dtype_include=np.number)),\n",
    "                                               (oe_condition, ['condition']),\n",
    "                                               (oe_title_status, ['title_status']),\n",
    "                                               (oe_size, ['size']),\n",
    "#                                               (oe_type, ['type']),\n",
    "                                               (oe_cylinders, ['cylinders']),\n",
    "                                                (OneHotEncoder(handle_unknown = 'ignore'), ['region']),\n",
    "                                                (OneHotEncoder(handle_unknown = 'ignore'), ['manufacturer']),\n",
    "                                                (OneHotEncoder(handle_unknown = 'ignore'), ['model']),\n",
    "                                                (OneHotEncoder(handle_unknown = 'ignore'), ['fuel']),\n",
    "                                                (OneHotEncoder(handle_unknown = 'ignore'), ['transmission']),\n",
    "                                                (OneHotEncoder(handle_unknown = 'ignore'), ['drive']),\n",
    "                                                (OneHotEncoder(handle_unknown = 'ignore'), ['paint_color']),\n",
    "                                                (OneHotEncoder(handle_unknown = 'ignore'), ['state']), \n",
    "                                               remainder='passthrough'\n",
    "                                  )\n",
    "pipe = Pipeline([('transformer', poly), ('linreg', LinearRegression())])\n",
    "\n",
    "poly.fit_transform(X_train1)\n",
    "pipe.fit(X_train1, y_train)\n",
    "p1 = pipe.predict(X_train1)\n",
    "p2 = pipe.predict(X_test1)\n",
    "train_mse = (mean_squared_error(y_train, p1))\n",
    "test_mse = (mean_squared_error(y_test, p2))\n",
    "print(train_mse)\n",
    "print(test_mse)"
   ]
  },
  {
   "cell_type": "code",
   "execution_count": 66,
   "id": "37c3047a",
   "metadata": {},
   "outputs": [
    {
     "name": "stdout",
     "output_type": "stream",
     "text": [
      "0.13989598602610404\n",
      "0.469695737942557\n"
     ]
    }
   ],
   "source": [
    "X_train1 = X_train.drop('cylinders', axis=1)\n",
    "X_test1 = X_test.drop('cylinders', axis=1)\n",
    "\n",
    "poly = make_column_transformer((PolynomialFeatures(degree=2), make_column_selector(dtype_include=np.number)),\n",
    "                                               (oe_condition, ['condition']),\n",
    "                                               (oe_title_status, ['title_status']),\n",
    "                                               (oe_size, ['size']),\n",
    "                                               (oe_type, ['type']),\n",
    "#                                               (oe_cylinders, ['cylinders']),\n",
    "                                                (OneHotEncoder(handle_unknown = 'ignore'), ['region']),\n",
    "                                                (OneHotEncoder(handle_unknown = 'ignore'), ['manufacturer']),\n",
    "                                                (OneHotEncoder(handle_unknown = 'ignore'), ['model']),\n",
    "                                                (OneHotEncoder(handle_unknown = 'ignore'), ['fuel']),\n",
    "                                                (OneHotEncoder(handle_unknown = 'ignore'), ['transmission']),\n",
    "                                                (OneHotEncoder(handle_unknown = 'ignore'), ['drive']),\n",
    "                                                (OneHotEncoder(handle_unknown = 'ignore'), ['paint_color']),\n",
    "                                                (OneHotEncoder(handle_unknown = 'ignore'), ['state']), \n",
    "                                               remainder='passthrough'\n",
    "                                  )\n",
    "pipe = Pipeline([('transformer', poly), ('linreg', LinearRegression())])\n",
    "\n",
    "poly.fit_transform(X_train1)\n",
    "pipe.fit(X_train1, y_train)\n",
    "p1 = pipe.predict(X_train1)\n",
    "p2 = pipe.predict(X_test1)\n",
    "train_mse = (mean_squared_error(y_train, p1))\n",
    "test_mse = (mean_squared_error(y_test, p2))\n",
    "print(train_mse)\n",
    "print(test_mse)\n",
    "    "
   ]
  },
  {
   "cell_type": "code",
   "execution_count": 67,
   "id": "954a2c89",
   "metadata": {},
   "outputs": [
    {
     "name": "stdout",
     "output_type": "stream",
     "text": [
      "0.14921624659684848\n",
      "0.48161926665065175\n"
     ]
    }
   ],
   "source": [
    "X_train1 = X_train.drop('region', axis=1)\n",
    "X_test1 = X_test.drop('region', axis=1)\n",
    "\n",
    "poly = make_column_transformer((PolynomialFeatures(degree=2), make_column_selector(dtype_include=np.number)),\n",
    "                                               (oe_condition, ['condition']),\n",
    "                                               (oe_title_status, ['title_status']),\n",
    "                                               (oe_size, ['size']),\n",
    "                                               (oe_type, ['type']),\n",
    "                                               (oe_cylinders, ['cylinders']),\n",
    "#                                                (OneHotEncoder(handle_unknown = 'ignore'), ['region']),\n",
    "                                                (OneHotEncoder(handle_unknown = 'ignore'), ['manufacturer']),\n",
    "                                                (OneHotEncoder(handle_unknown = 'ignore'), ['model']),\n",
    "                                                (OneHotEncoder(handle_unknown = 'ignore'), ['fuel']),\n",
    "                                                (OneHotEncoder(handle_unknown = 'ignore'), ['transmission']),\n",
    "                                                (OneHotEncoder(handle_unknown = 'ignore'), ['drive']),\n",
    "                                                (OneHotEncoder(handle_unknown = 'ignore'), ['paint_color']),\n",
    "                                                (OneHotEncoder(handle_unknown = 'ignore'), ['state']), \n",
    "                                               remainder='passthrough'\n",
    "                                  )\n",
    "pipe = Pipeline([('transformer', poly), ('linreg', LinearRegression())])\n",
    "\n",
    "poly.fit_transform(X_train1)\n",
    "pipe.fit(X_train1, y_train)\n",
    "p1 = pipe.predict(X_train1)\n",
    "p2 = pipe.predict(X_test1)\n",
    "train_mse = (mean_squared_error(y_train, p1))\n",
    "test_mse = (mean_squared_error(y_test, p2))\n",
    "print(train_mse)\n",
    "print(test_mse)"
   ]
  },
  {
   "cell_type": "code",
   "execution_count": 68,
   "id": "c623ea7d",
   "metadata": {},
   "outputs": [
    {
     "name": "stdout",
     "output_type": "stream",
     "text": [
      "0.14146324450134332\n",
      "0.28007155257471555\n"
     ]
    }
   ],
   "source": [
    "X_train1 = X_train.drop('manufacturer', axis=1)\n",
    "X_test1 = X_test.drop('manufacturer', axis=1)\n",
    "\n",
    "poly = make_column_transformer((PolynomialFeatures(degree=2), make_column_selector(dtype_include=np.number)),\n",
    "                                               (oe_condition, ['condition']),\n",
    "                                               (oe_title_status, ['title_status']),\n",
    "                                               (oe_size, ['size']),\n",
    "                                               (oe_type, ['type']),\n",
    "                                               (oe_cylinders, ['cylinders']),\n",
    "                                                (OneHotEncoder(handle_unknown = 'ignore'), ['region']),\n",
    "#                                                (OneHotEncoder(handle_unknown = 'ignore'), ['manufacturer']),\n",
    "                                                (OneHotEncoder(handle_unknown = 'ignore'), ['model']),\n",
    "                                                (OneHotEncoder(handle_unknown = 'ignore'), ['fuel']),\n",
    "                                                (OneHotEncoder(handle_unknown = 'ignore'), ['transmission']),\n",
    "                                                (OneHotEncoder(handle_unknown = 'ignore'), ['drive']),\n",
    "                                                (OneHotEncoder(handle_unknown = 'ignore'), ['paint_color']),\n",
    "                                                (OneHotEncoder(handle_unknown = 'ignore'), ['state']), \n",
    "                                               remainder='passthrough'\n",
    "                                  )\n",
    "pipe = Pipeline([('transformer', poly), ('linreg', LinearRegression())])\n",
    "\n",
    "poly.fit_transform(X_train1)\n",
    "pipe.fit(X_train1, y_train)\n",
    "p1 = pipe.predict(X_train1)\n",
    "p2 = pipe.predict(X_test1)\n",
    "train_mse = (mean_squared_error(y_train, p1))\n",
    "test_mse = (mean_squared_error(y_test, p2))\n",
    "print(train_mse)\n",
    "print(test_mse)"
   ]
  },
  {
   "cell_type": "code",
   "execution_count": 69,
   "id": "3a44e08c",
   "metadata": {},
   "outputs": [
    {
     "name": "stdout",
     "output_type": "stream",
     "text": [
      "0.31830613387448864\n",
      "0.3337206132479505\n"
     ]
    }
   ],
   "source": [
    "X_train1 = X_train.drop('model', axis=1)\n",
    "X_test1 = X_test.drop('model', axis=1)\n",
    "\n",
    "poly = make_column_transformer((PolynomialFeatures(degree=2), make_column_selector(dtype_include=np.number)),\n",
    "                                               (oe_condition, ['condition']),\n",
    "                                               (oe_title_status, ['title_status']),\n",
    "                                               (oe_size, ['size']),\n",
    "                                               (oe_type, ['type']),\n",
    "                                               (oe_cylinders, ['cylinders']),\n",
    "                                                (OneHotEncoder(handle_unknown = 'ignore'), ['region']),\n",
    "                                                (OneHotEncoder(handle_unknown = 'ignore'), ['manufacturer']),\n",
    "#                                                (OneHotEncoder(handle_unknown = 'ignore'), ['model']),\n",
    "                                                (OneHotEncoder(handle_unknown = 'ignore'), ['fuel']),\n",
    "                                                (OneHotEncoder(handle_unknown = 'ignore'), ['transmission']),\n",
    "                                                (OneHotEncoder(handle_unknown = 'ignore'), ['drive']),\n",
    "                                                (OneHotEncoder(handle_unknown = 'ignore'), ['paint_color']),\n",
    "                                                (OneHotEncoder(handle_unknown = 'ignore'), ['state']), \n",
    "                                               remainder='passthrough'\n",
    "                                  )\n",
    "pipe = Pipeline([('transformer', poly), ('linreg', LinearRegression())])\n",
    "\n",
    "poly.fit_transform(X_train1)\n",
    "pipe.fit(X_train1, y_train)\n",
    "p1 = pipe.predict(X_train1)\n",
    "p2 = pipe.predict(X_test1)\n",
    "train_mse = (mean_squared_error(y_train, p1))\n",
    "test_mse = (mean_squared_error(y_test, p2))\n",
    "print(train_mse)\n",
    "print(test_mse)"
   ]
  },
  {
   "cell_type": "code",
   "execution_count": 70,
   "id": "a11c191d",
   "metadata": {},
   "outputs": [
    {
     "name": "stdout",
     "output_type": "stream",
     "text": [
      "0.14738837040183503\n",
      "0.4743136368554628\n"
     ]
    }
   ],
   "source": [
    "X_train1 = X_train.drop('fuel', axis=1)\n",
    "X_test1 = X_test.drop('fuel', axis=1)\n",
    "\n",
    "poly = make_column_transformer((PolynomialFeatures(degree=2), make_column_selector(dtype_include=np.number)),\n",
    "                                               (oe_condition, ['condition']),\n",
    "                                               (oe_title_status, ['title_status']),\n",
    "                                               (oe_size, ['size']),\n",
    "                                               (oe_type, ['type']),\n",
    "                                               (oe_cylinders, ['cylinders']),\n",
    "                                                (OneHotEncoder(handle_unknown = 'ignore'), ['region']),\n",
    "                                                (OneHotEncoder(handle_unknown = 'ignore'), ['manufacturer']),\n",
    "                                                (OneHotEncoder(handle_unknown = 'ignore'), ['model']),\n",
    "#                                                (OneHotEncoder(handle_unknown = 'ignore'), ['fuel']),\n",
    "                                                (OneHotEncoder(handle_unknown = 'ignore'), ['transmission']),\n",
    "                                                (OneHotEncoder(handle_unknown = 'ignore'), ['drive']),\n",
    "                                                (OneHotEncoder(handle_unknown = 'ignore'), ['paint_color']),\n",
    "                                                (OneHotEncoder(handle_unknown = 'ignore'), ['state']), \n",
    "                                               remainder='passthrough'\n",
    "                                  )\n",
    "pipe = Pipeline([('transformer', poly), ('linreg', LinearRegression())])\n",
    "\n",
    "poly.fit_transform(X_train1)\n",
    "pipe.fit(X_train1, y_train)\n",
    "p1 = pipe.predict(X_train1)\n",
    "p2 = pipe.predict(X_test1)\n",
    "train_mse = (mean_squared_error(y_train, p1))\n",
    "test_mse = (mean_squared_error(y_test, p2))\n",
    "print(train_mse)\n",
    "print(test_mse)"
   ]
  },
  {
   "cell_type": "code",
   "execution_count": 71,
   "id": "05704c76",
   "metadata": {},
   "outputs": [
    {
     "name": "stdout",
     "output_type": "stream",
     "text": [
      "0.14769649059203974\n",
      "0.46955383256957745\n"
     ]
    }
   ],
   "source": [
    "X_train1 = X_train.drop('transmission', axis=1)\n",
    "X_test1 = X_test.drop('transmission', axis=1)\n",
    "\n",
    "poly = make_column_transformer((PolynomialFeatures(degree=2), make_column_selector(dtype_include=np.number)),\n",
    "                                               (oe_condition, ['condition']),\n",
    "                                               (oe_title_status, ['title_status']),\n",
    "                                               (oe_size, ['size']),\n",
    "                                               (oe_type, ['type']),\n",
    "                                               (oe_cylinders, ['cylinders']),\n",
    "                                                (OneHotEncoder(handle_unknown = 'ignore'), ['region']),\n",
    "                                                (OneHotEncoder(handle_unknown = 'ignore'), ['manufacturer']),\n",
    "                                                (OneHotEncoder(handle_unknown = 'ignore'), ['model']),\n",
    "                                                (OneHotEncoder(handle_unknown = 'ignore'), ['fuel']),\n",
    "#                                                (OneHotEncoder(handle_unknown = 'ignore'), ['transmission']),\n",
    "                                                (OneHotEncoder(handle_unknown = 'ignore'), ['drive']),\n",
    "                                                (OneHotEncoder(handle_unknown = 'ignore'), ['paint_color']),\n",
    "                                                (OneHotEncoder(handle_unknown = 'ignore'), ['state']), \n",
    "                                               remainder='passthrough'\n",
    "                                  )\n",
    "pipe = Pipeline([('transformer', poly), ('linreg', LinearRegression())])\n",
    "\n",
    "poly.fit_transform(X_train1)\n",
    "pipe.fit(X_train1, y_train)\n",
    "p1 = pipe.predict(X_train1)\n",
    "p2 = pipe.predict(X_test1)\n",
    "train_mse = (mean_squared_error(y_train, p1))\n",
    "test_mse = (mean_squared_error(y_test, p2))\n",
    "print(train_mse)\n",
    "print(test_mse)"
   ]
  },
  {
   "cell_type": "code",
   "execution_count": 72,
   "id": "73e0ee34",
   "metadata": {},
   "outputs": [
    {
     "name": "stdout",
     "output_type": "stream",
     "text": [
      "0.1413953045137322\n",
      "0.4574601916308741\n"
     ]
    }
   ],
   "source": [
    "X_train1 = X_train.drop('drive', axis=1)\n",
    "X_test1 = X_test.drop('drive', axis=1)\n",
    "\n",
    "poly = make_column_transformer((PolynomialFeatures(degree=2), make_column_selector(dtype_include=np.number)),\n",
    "                                               (oe_condition, ['condition']),\n",
    "                                               (oe_title_status, ['title_status']),\n",
    "                                               (oe_size, ['size']),\n",
    "                                               (oe_type, ['type']),\n",
    "                                               (oe_cylinders, ['cylinders']),\n",
    "                                                (OneHotEncoder(handle_unknown = 'ignore'), ['region']),\n",
    "                                                (OneHotEncoder(handle_unknown = 'ignore'), ['manufacturer']),\n",
    "                                                (OneHotEncoder(handle_unknown = 'ignore'), ['model']),\n",
    "                                                (OneHotEncoder(handle_unknown = 'ignore'), ['fuel']),\n",
    "                                                (OneHotEncoder(handle_unknown = 'ignore'), ['transmission']),\n",
    "#                                                (OneHotEncoder(handle_unknown = 'ignore'), ['drive']),\n",
    "                                                (OneHotEncoder(handle_unknown = 'ignore'), ['paint_color']),\n",
    "                                                (OneHotEncoder(handle_unknown = 'ignore'), ['state']), \n",
    "                                               remainder='passthrough'\n",
    "                                  )\n",
    "pipe = Pipeline([('transformer', poly), ('linreg', LinearRegression())])\n",
    "\n",
    "poly.fit_transform(X_train1)\n",
    "pipe.fit(X_train1, y_train)\n",
    "p1 = pipe.predict(X_train1)\n",
    "p2 = pipe.predict(X_test1)\n",
    "train_mse = (mean_squared_error(y_train, p1))\n",
    "test_mse = (mean_squared_error(y_test, p2))\n",
    "print(train_mse)\n",
    "print(test_mse)"
   ]
  },
  {
   "cell_type": "code",
   "execution_count": 73,
   "id": "6d77544a",
   "metadata": {},
   "outputs": [
    {
     "name": "stdout",
     "output_type": "stream",
     "text": [
      "0.14058352143269226\n",
      "0.48646791164042247\n"
     ]
    }
   ],
   "source": [
    "X_train1 = X_train.drop('paint_color', axis=1)\n",
    "X_test1 = X_test.drop('paint_color', axis=1)\n",
    "\n",
    "poly = make_column_transformer((PolynomialFeatures(degree=2), make_column_selector(dtype_include=np.number)),\n",
    "                                               (oe_condition, ['condition']),\n",
    "                                               (oe_title_status, ['title_status']),\n",
    "                                               (oe_size, ['size']),\n",
    "                                               (oe_type, ['type']),\n",
    "                                               (oe_cylinders, ['cylinders']),\n",
    "                                                (OneHotEncoder(handle_unknown = 'ignore'), ['region']),\n",
    "                                                (OneHotEncoder(handle_unknown = 'ignore'), ['manufacturer']),\n",
    "                                                (OneHotEncoder(handle_unknown = 'ignore'), ['model']),\n",
    "                                                (OneHotEncoder(handle_unknown = 'ignore'), ['fuel']),\n",
    "                                                (OneHotEncoder(handle_unknown = 'ignore'), ['transmission']),\n",
    "                                                (OneHotEncoder(handle_unknown = 'ignore'), ['drive']),\n",
    "#                                                (OneHotEncoder(handle_unknown = 'ignore'), ['paint_color']),\n",
    "                                                (OneHotEncoder(handle_unknown = 'ignore'), ['state']), \n",
    "                                               remainder='passthrough'\n",
    "                                  )\n",
    "pipe = Pipeline([('transformer', poly), ('linreg', LinearRegression())])\n",
    "\n",
    "poly.fit_transform(X_train1)\n",
    "pipe.fit(X_train1, y_train)\n",
    "p1 = pipe.predict(X_train1)\n",
    "p2 = pipe.predict(X_test1)\n",
    "train_mse = (mean_squared_error(y_train, p1))\n",
    "test_mse = (mean_squared_error(y_test, p2))\n",
    "print(train_mse)\n",
    "print(test_mse)"
   ]
  },
  {
   "cell_type": "code",
   "execution_count": 74,
   "id": "a4c29131",
   "metadata": {},
   "outputs": [
    {
     "name": "stdout",
     "output_type": "stream",
     "text": [
      "0.14012826644704912\n",
      "0.46941942586508245\n"
     ]
    }
   ],
   "source": [
    "X_train1 = X_train.drop('state', axis=1)\n",
    "X_test1 = X_test.drop('state', axis=1)\n",
    "\n",
    "poly = make_column_transformer((PolynomialFeatures(degree=2), make_column_selector(dtype_include=np.number)),\n",
    "                                               (oe_condition, ['condition']),\n",
    "                                               (oe_title_status, ['title_status']),\n",
    "                                               (oe_size, ['size']),\n",
    "                                               (oe_type, ['type']),\n",
    "                                               (oe_cylinders, ['cylinders']),\n",
    "                                                (OneHotEncoder(handle_unknown = 'ignore'), ['region']),\n",
    "                                                (OneHotEncoder(handle_unknown = 'ignore'), ['manufacturer']),\n",
    "                                                (OneHotEncoder(handle_unknown = 'ignore'), ['model']),\n",
    "                                                (OneHotEncoder(handle_unknown = 'ignore'), ['fuel']),\n",
    "                                                (OneHotEncoder(handle_unknown = 'ignore'), ['transmission']),\n",
    "                                                (OneHotEncoder(handle_unknown = 'ignore'), ['drive']),\n",
    "                                                (OneHotEncoder(handle_unknown = 'ignore'), ['paint_color']),\n",
    "#                                                (OneHotEncoder(handle_unknown = 'ignore'), ['state']), \n",
    "                                               remainder='passthrough'\n",
    "                                  )\n",
    "pipe = Pipeline([('transformer', poly), ('linreg', LinearRegression())])\n",
    "\n",
    "poly.fit_transform(X_train1)\n",
    "pipe.fit(X_train1, y_train)\n",
    "p1 = pipe.predict(X_train1)\n",
    "p2 = pipe.predict(X_test1)\n",
    "train_mse = (mean_squared_error(y_train, p1))\n",
    "test_mse = (mean_squared_error(y_test, p2))\n",
    "print(train_mse)\n",
    "print(test_mse)"
   ]
  },
  {
   "cell_type": "code",
   "execution_count": 75,
   "id": "c475ddb9",
   "metadata": {},
   "outputs": [
    {
     "name": "stdout",
     "output_type": "stream",
     "text": [
      "0.1550570580685754\n",
      "0.35202437966453215\n"
     ]
    }
   ],
   "source": [
    "X_train1 = X_train.drop('odometer', axis=1)\n",
    "X_test1 = X_test.drop('odometer', axis=1)\n",
    "\n",
    "poly = make_column_transformer((PolynomialFeatures(degree=2), make_column_selector(dtype_include=np.number)),\n",
    "                                               (oe_condition, ['condition']),\n",
    "                                               (oe_title_status, ['title_status']),\n",
    "                                               (oe_size, ['size']),\n",
    "                                               (oe_type, ['type']),\n",
    "                                               (oe_cylinders, ['cylinders']),\n",
    "                                                (OneHotEncoder(handle_unknown = 'ignore'), ['region']),\n",
    "                                                (OneHotEncoder(handle_unknown = 'ignore'), ['manufacturer']),\n",
    "                                                (OneHotEncoder(handle_unknown = 'ignore'), ['model']),\n",
    "                                                (OneHotEncoder(handle_unknown = 'ignore'), ['fuel']),\n",
    "                                                (OneHotEncoder(handle_unknown = 'ignore'), ['transmission']),\n",
    "                                                (OneHotEncoder(handle_unknown = 'ignore'), ['drive']),\n",
    "                                                (OneHotEncoder(handle_unknown = 'ignore'), ['paint_color']),\n",
    "                                                (OneHotEncoder(handle_unknown = 'ignore'), ['state']), \n",
    "                                               remainder='passthrough'\n",
    "                                  )\n",
    "pipe = Pipeline([('transformer', poly), ('linreg', LinearRegression())])\n",
    "\n",
    "poly.fit_transform(X_train1)\n",
    "pipe.fit(X_train1, y_train)\n",
    "p1 = pipe.predict(X_train1)\n",
    "p2 = pipe.predict(X_test1)\n",
    "train_mse = (mean_squared_error(y_train, p1))\n",
    "test_mse = (mean_squared_error(y_test, p2))\n",
    "print(train_mse)\n",
    "print(test_mse)"
   ]
  },
  {
   "cell_type": "code",
   "execution_count": 77,
   "id": "61b6dba3",
   "metadata": {},
   "outputs": [
    {
     "name": "stdout",
     "output_type": "stream",
     "text": [
      "0.21219100977451366\n",
      "0.34755985681105234\n"
     ]
    }
   ],
   "source": [
    "X_train1 = X_train.drop('year', axis=1)\n",
    "X_test1 = X_test.drop('year', axis=1)\n",
    "\n",
    "poly = make_column_transformer((PolynomialFeatures(degree=2), make_column_selector(dtype_include=np.number)),\n",
    "                                               (oe_condition, ['condition']),\n",
    "                                               (oe_title_status, ['title_status']),\n",
    "                                               (oe_size, ['size']),\n",
    "                                               (oe_type, ['type']),\n",
    "                                               (oe_cylinders, ['cylinders']),\n",
    "                                                (OneHotEncoder(handle_unknown = 'ignore'), ['region']),\n",
    "                                                (OneHotEncoder(handle_unknown = 'ignore'), ['manufacturer']),\n",
    "                                                (OneHotEncoder(handle_unknown = 'ignore'), ['model']),\n",
    "                                                (OneHotEncoder(handle_unknown = 'ignore'), ['fuel']),\n",
    "                                                (OneHotEncoder(handle_unknown = 'ignore'), ['transmission']),\n",
    "                                                (OneHotEncoder(handle_unknown = 'ignore'), ['drive']),\n",
    "                                                (OneHotEncoder(handle_unknown = 'ignore'), ['paint_color']),\n",
    "                                                (OneHotEncoder(handle_unknown = 'ignore'), ['state']), \n",
    "                                               remainder='passthrough'\n",
    "                                  )\n",
    "pipe = Pipeline([('transformer', poly), ('linreg', LinearRegression())])\n",
    "\n",
    "poly.fit_transform(X_train1)\n",
    "pipe.fit(X_train1, y_train)\n",
    "p1 = pipe.predict(X_train1)\n",
    "p2 = pipe.predict(X_test1)\n",
    "train_mse = (mean_squared_error(y_train, p1))\n",
    "test_mse = (mean_squared_error(y_test, p2))\n",
    "print(train_mse)\n",
    "print(test_mse)"
   ]
  }
 ],
 "metadata": {
  "kernelspec": {
   "display_name": "Python 3 (ipykernel)",
   "language": "python",
   "name": "python3"
  },
  "language_info": {
   "codemirror_mode": {
    "name": "ipython",
    "version": 3
   },
   "file_extension": ".py",
   "mimetype": "text/x-python",
   "name": "python",
   "nbconvert_exporter": "python",
   "pygments_lexer": "ipython3",
   "version": "3.9.7"
  }
 },
 "nbformat": 4,
 "nbformat_minor": 5
}
